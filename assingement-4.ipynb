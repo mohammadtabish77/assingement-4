{
 "cells": [
  {
   "cell_type": "code",
   "execution_count": 3,
   "id": "84ecfa14-0ccf-4aed-8667-0c2311bf822d",
   "metadata": {},
   "outputs": [
    {
     "data": {
      "text/plain": [
       "[('virat kholi', 24936),\n",
       " ('jack kallis', 25534),\n",
       " ('ricky ponting', 27483),\n",
       " ('sachin tendulkar', 34357)]"
      ]
     },
     "execution_count": 3,
     "metadata": {},
     "output_type": "execute_result"
    }
   ],
   "source": [
    "#Q1\n",
    "l=[('sachin tendulkar',34357),('ricky ponting',27483),('jack kallis',25534),('virat kholi',24936)]\n",
    "sorted(l,key=lambda x: x[1])"
   ]
  },
  {
   "cell_type": "code",
   "execution_count": 4,
   "id": "cba2a468-6043-44d0-bb19-34f70f6aed24",
   "metadata": {},
   "outputs": [
    {
     "name": "stdout",
     "output_type": "stream",
     "text": [
      "[1, 4, 9, 16, 25, 36, 49, 64, 81, 100]\n"
     ]
    }
   ],
   "source": [
    "#Q2\n",
    "numbers = list(range(1,11))\n",
    "squared_number = list(map(lambda x: x**2, numbers))\n",
    "print(squared_number)"
   ]
  },
  {
   "cell_type": "code",
   "execution_count": 5,
   "id": "1e215d06-8bce-4fef-839a-b013df64b5c1",
   "metadata": {},
   "outputs": [],
   "source": [
    "#Q3\n",
    "l=[1,2,3,4,5,6,7,8,9,10]\n",
    "result=list(map(lambda x:str(x),l))"
   ]
  },
  {
   "cell_type": "code",
   "execution_count": 6,
   "id": "9285bd85-92aa-4903-b815-3de2a687d316",
   "metadata": {},
   "outputs": [
    {
     "data": {
      "text/plain": [
       "['1', '2', '3', '4', '5', '6', '7', '8', '9', '10']"
      ]
     },
     "execution_count": 6,
     "metadata": {},
     "output_type": "execute_result"
    }
   ],
   "source": [
    "result"
   ]
  },
  {
   "cell_type": "code",
   "execution_count": 7,
   "id": "a68560a2-e48b-4749-9b2b-28b36ad30d54",
   "metadata": {},
   "outputs": [
    {
     "data": {
      "text/plain": [
       "15511210043330985984000000"
      ]
     },
     "execution_count": 7,
     "metadata": {},
     "output_type": "execute_result"
    }
   ],
   "source": [
    "#Q4\n",
    "lis=list(range(1,26))\n",
    "from functools import reduce\n",
    "reduce(lambda x,y:x*y,lis)"
   ]
  },
  {
   "cell_type": "code",
   "execution_count": 21,
   "id": "3c7ab514-dc34-4a89-848f-f49f9a74753f",
   "metadata": {},
   "outputs": [
    {
     "name": "stdout",
     "output_type": "stream",
     "text": [
      "[6, 12]\n"
     ]
    }
   ],
   "source": [
    "#Q5\n",
    "number=[1,2,3,4,5,6,7,8,9,10,11,12,13,14,15]\n",
    "\n",
    "filtered_number = list(filter(lambda x: x % 2==0 and x % 3==0,number))\n",
    "print(filtered_number)"
   ]
  },
  {
   "cell_type": "code",
   "execution_count": 22,
   "id": "76dc4ccf-fe47-4032-b586-70b967379d32",
   "metadata": {},
   "outputs": [
    {
     "name": "stdout",
     "output_type": "stream",
     "text": [
      "['php', 'aba', 'radar', 'level']\n"
     ]
    }
   ],
   "source": [
    "#Q6\n",
    "string =['python','php','aba','radar','level']\n",
    "palindrome = list(filter(lambda x: x== x[::-1],string))\n",
    "print(palindrome)"
   ]
  },
  {
   "cell_type": "code",
   "execution_count": null,
   "id": "fa4ebfa3-b3c4-4edd-ae76-9870b98a5675",
   "metadata": {},
   "outputs": [],
   "source": []
  }
 ],
 "metadata": {
  "kernelspec": {
   "display_name": "Python 3 (ipykernel)",
   "language": "python",
   "name": "python3"
  },
  "language_info": {
   "codemirror_mode": {
    "name": "ipython",
    "version": 3
   },
   "file_extension": ".py",
   "mimetype": "text/x-python",
   "name": "python",
   "nbconvert_exporter": "python",
   "pygments_lexer": "ipython3",
   "version": "3.10.8"
  }
 },
 "nbformat": 4,
 "nbformat_minor": 5
}
